{
 "cells": [
  {
   "cell_type": "code",
   "execution_count": 648,
   "metadata": {
    "collapsed": true
   },
   "outputs": [],
   "source": [
    "\n",
    "import numpy as np\n",
    "import matplotlib.pyplot as plt\n",
    "from numpy import linalg as LA"
   ]
  },
  {
   "cell_type": "markdown",
   "metadata": {
    "collapsed": true
   },
   "source": [
    "\n",
    "Recall the Horner's rule:\n",
    "\n",
    "Given $p(x_k) = f_k$ for $k = 0, \\cdots, d$\n",
    "\n",
    "$$p(x_0)  = a_0 + x_0(a_1 + x_0(a_2 + \\cdots + x_0(a_{n-1} + b_n x_0))) \n",
    " = a_0 + x_0(a_1 + x_0(a_2 + \\cdots + x_0 b_{n-1})) $$"
   ]
  },
  {
   "cell_type": "code",
   "execution_count": 649,
   "metadata": {
    "collapsed": true
   },
   "outputs": [],
   "source": [
    "# Generate van der Monde, allow over/under fitting\n",
    "\n",
    "# Generate Row for van der Monde\n",
    "def gen_row(x_i,d):\n",
    "    row = np.array([pow(x_i, k) for k in range(d+1)])\n",
    "    return row\n",
    "\n",
    "# Input: \n",
    "# x: uniformly spaced value; d: number of points to fit\n",
    "\n",
    "def mat_monde(x, d):\n",
    "    mat = np.array([gen_row(x_i, d)  for x_i in x  ])\n",
    "    return mat"
   ]
  },
  {
   "cell_type": "code",
   "execution_count": 650,
   "metadata": {
    "collapsed": false
   },
   "outputs": [
    {
     "name": "stdout",
     "output_type": "stream",
     "text": [
      "Test Van der Monte Matrix generator:\n",
      "[[ 1  1  1  1]\n",
      " [ 1  2  4  8]\n",
      " [ 1  3  9 27]\n",
      " [ 1  4 16 64]]\n"
     ]
    }
   ],
   "source": [
    "# Testing  Vandermonde generator\n",
    "\n",
    "x = [1,2,3, 4]\n",
    "mat = mat_monde(x, len(x)-1)\n",
    "print(\"Test Van der Monte Matrix generator:\")\n",
    "print(mat)\n"
   ]
  },
  {
   "cell_type": "code",
   "execution_count": 651,
   "metadata": {
    "collapsed": false
   },
   "outputs": [],
   "source": [
    "# pFit.py\n",
    "\n",
    "# LA.inv: find inverse matrix\n",
    "# LA.cond: condition number\n",
    "\n",
    "# Solve for pk: p(xk) = fk\n",
    "# output: pk, condition no.\n",
    "def pFit(xk, fk):\n",
    "    mat = mat_monde(xk, len(xk)-1)\n",
    "    m_inv = LA.inv(mat)\n",
    "    pk = np.dot(m_inv, fk)\n",
    "    return pk, LA.cond(mat)\n",
    "\n"
   ]
  },
  {
   "cell_type": "code",
   "execution_count": 652,
   "metadata": {
    "collapsed": false
   },
   "outputs": [],
   "source": [
    "#  pEval.py\n",
    "\n",
    "# Evaluate p(x), for given pk and x\n",
    "\n",
    "\n",
    "# Horner's Rule\n",
    "def pEval_h(x, pk):\n",
    "    l = len(pk)\n",
    "    y = pk[-1]\n",
    "    for i in range(l):\n",
    "        j = i+1\n",
    "        y = x * y + pk[-j-1]\n",
    "        if (-j-1) == (-len(pk)):\n",
    "               break\n",
    "    return y\n",
    "\n",
    "# Directly multiplying\n",
    "def pEval(x, pk):\n",
    "    d = len(pk) - 1\n",
    "    y = np.array([pow(x, i) for i in range(d + 1)])\n",
    "    fx = np.dot(y, pk)\n",
    "    return fx\n",
    "\n"
   ]
  },
  {
   "cell_type": "markdown",
   "metadata": {},
   "source": []
  },
  {
   "cell_type": "code",
   "execution_count": 675,
   "metadata": {
    "collapsed": false
   },
   "outputs": [
    {
     "name": "stdout",
     "output_type": "stream",
     "text": [
      "---Test Modules on random x and f---\n",
      "\n",
      "Abs. Error, using direct multiplication\n",
      "[  7.29494243e-12  -1.59871395e-08   9.05348494e-09  -8.45305281e-09\n",
      "   6.58860455e-09  -8.59674143e-09  -1.67501126e-08  -1.73361214e-10\n",
      "  -5.80760762e-09  -4.29360481e-09]\n",
      "\n",
      "\n",
      "Abs. Error, using Horner's Rule\n",
      "[  4.57356375e-12  -1.54878482e-08   9.05347963e-09  -8.44198256e-09\n",
      "   6.58867183e-09  -8.60845828e-09  -1.67784633e-08  -1.75983117e-10\n",
      "   5.89760341e-09  -4.28433222e-09]\n"
     ]
    }
   ],
   "source": [
    "# pTest.py\n",
    "\n",
    "# Test Module on random x and f = p(x)\n",
    "d = 10\n",
    "\n",
    "x = np.random.rand(d)\n",
    "f = np.random.rand(d)\n",
    "\n",
    "pk = pFit(x, f)[0]\n",
    "\n",
    "\n",
    "p_x = [pEval(i, pk) for i in x]\n",
    "p_xh = [pEval_h(i, pk) for i in x]\n",
    "\n",
    "print(\"---Test Modules on random x and f---\\n\")\n",
    "print(\"Abs. Error, using direct multiplication\")\n",
    "print(p_x-f)\n",
    "print('\\n')\n",
    "print(\"Abs. Error, using Horner's Rule\")\n",
    "print(p_xh-f)\n",
    "\n"
   ]
  },
  {
   "cell_type": "markdown",
   "metadata": {
    "collapsed": false
   },
   "source": []
  },
  {
   "cell_type": "code",
   "execution_count": 654,
   "metadata": {
    "collapsed": false
   },
   "outputs": [],
   "source": [
    "# plot the condition number with respect to d\n",
    "\n",
    "\n",
    "# Set maximal d\n",
    "d_max = 100\n",
    "cond_no = np.zeros(d_max)\n",
    "#x = np.random.rand(d_max)\n",
    "#f = np.random.rand(d_max)\n",
    "x = np.linspace(10, 100, d_max)\n",
    "f = 100*x\n",
    "\n",
    "# Take partial array for condition number computation\n",
    "for j in range(d_max):\n",
    "    i = j + 2\n",
    "    cond_no[j] = pFit(x[:i], f[:i])[1]"
   ]
  },
  {
   "cell_type": "code",
   "execution_count": 655,
   "metadata": {
    "collapsed": false
   },
   "outputs": [
    {
     "data": {
      "text/plain": [
       "<matplotlib.text.Text at 0x119aedc88>"
      ]
     },
     "execution_count": 655,
     "metadata": {},
     "output_type": "execute_result"
    },
    {
     "data": {
      "image/png": "[encoded data removed]",
      "text/plain": [
       "<matplotlib.figure.Figure at 0x119ac6278>"
      ]
     },
     "metadata": {},
     "output_type": "display_data"
    }
   ],
   "source": [
    "# Plotting \n",
    "plt.plot(cond_no)\n",
    "plt.yscale('log')\n",
    "plt.ylabel(\"Condition Number(Log Scale)\")\n",
    "plt.xlabel(\"$d$\")\n",
    "plt.title(\"Growth of Condition Number with respect to d\")"
   ]
  },
  {
   "cell_type": "markdown",
   "metadata": {},
   "source": [
    "### Comments:\n",
    "With log scale on y-axis, condition number is proportional to d.\n",
    "\n",
    "That is, condition number grows exponentially with respect to d."
   ]
  },
  {
   "cell_type": "markdown",
   "metadata": {},
   "source": []
  },
  {
   "cell_type": "code",
   "execution_count": 656,
   "metadata": {
    "collapsed": false
   },
   "outputs": [
    {
     "data": {
      "text/plain": [
       "<matplotlib.text.Text at 0x11a0080f0>"
      ]
     },
     "execution_count": 656,
     "metadata": {},
     "output_type": "execute_result"
    },
    {
     "data": {
      "image/png": "[encoded data removed]",
      "text/plain": [
       "<matplotlib.figure.Figure at 0x11a042c88>"
      ]
     },
     "metadata": {},
     "output_type": "display_data"
    }
   ],
   "source": [
    "def g(x):\n",
    "    return np.exp(-pow(x, 2)/2.)\n",
    "\n",
    "\n",
    "# Evaluate for Polyn\n",
    "step = 100 \n",
    "uk = np.linspace(-2, 2, step)\n",
    "fk = [g(x) for x in uk]\n",
    "pk = pFit(uk, fk)[0]\n",
    "\n",
    "#plt.plot(xk, fk)\n",
    "plt.plot(uk, fk)\n",
    "plt.title(\"Original Function\")\n",
    "plt.xlabel(\"input value x\")"
   ]
  },
  {
   "cell_type": "code",
   "execution_count": 657,
   "metadata": {
    "collapsed": false
   },
   "outputs": [
    {
     "data": {
      "text/plain": [
       "<matplotlib.text.Text at 0x11a982438>"
      ]
     },
     "execution_count": 657,
     "metadata": {},
     "output_type": "execute_result"
    },
    {
     "data": {
      "image/png": "[encoded data removed]",
      "text/plain": [
       "<matplotlib.figure.Figure at 0x11a8b7908>"
      ]
     },
     "metadata": {},
     "output_type": "display_data"
    }
   ],
   "source": [
    "# Evaluation for Polyn\n",
    "\n",
    "step = 100 \n",
    "uk = np.linspace(-2, 2, step)\n",
    "\n",
    "k = 3\n",
    "marks = [':','--','-']\n",
    "for j in range(k):\n",
    "    d = j*2 + 33\n",
    "    xk = np.linspace(-2, 2, d)\n",
    "    fk = [g(x) for x in xk]\n",
    "    pk = pFit(xk, fk)[0]\n",
    "    \n",
    "    fk_eval = [pEval(x, pk) for x in uk]\n",
    "    plt.plot(uk, fk_eval, label=\"d = %d\"%d, linestyle = marks[j%3])\n",
    "plt.legend()\n",
    "plt.title(\"Polynomial Approximation\")\n",
    "plt.xlabel(\"x value\")\n",
    "plt.ylabel(\"y value\")"
   ]
  },
  {
   "cell_type": "code",
   "execution_count": 658,
   "metadata": {
    "collapsed": false
   },
   "outputs": [
    {
     "data": {
      "text/plain": [
       "<matplotlib.text.Text at 0x11f0ae198>"
      ]
     },
     "execution_count": 658,
     "metadata": {},
     "output_type": "execute_result"
    },
    {
     "data": {
      "image/png": "[encoded data removed]",
      "text/plain": [
       "<matplotlib.figure.Figure at 0x11a914f28>"
      ]
     },
     "metadata": {},
     "output_type": "display_data"
    }
   ],
   "source": [
    "# Relative Error Plotting\n",
    "\n",
    "step = 100 \n",
    "uk = np.linspace(-2, 2, step)\n",
    "\n",
    "k = 3\n",
    "marks = [':','--','-']\n",
    "for j in range(k):\n",
    "    d = j*2 + 33\n",
    "    xk = np.linspace(-2, 2, d)\n",
    "    fk = [g(x) for x in xk]\n",
    "    pk = pFit(xk, fk)[0]\n",
    "    \n",
    "    rel_error = [np.abs(pEval(x, pk) - g(x))/g(x) for x in uk]\n",
    "    plt.plot(uk, rel_error, label=\"d = %d\"%d, linestyle = marks[j%3])\n",
    "plt.legend()\n",
    "plt.title(\"Relative Error of Polynomial Approximation\")\n",
    "plt.xlabel(\"x value\")\n",
    "plt.ylabel(\"Relative errors\")"
   ]
  },
  {
   "cell_type": "markdown",
   "metadata": {},
   "source": [
    "### Comments:\n",
    "1. For polynomial fitting, overfitting happens for $d\\sim 35$. \n",
    "\n",
    "2. Errors increase significantly for $|x| \\geq 1$.\n",
    "\n",
    "3. Errors in $|x| \\leq 1$ remains relatively small.\n",
    "\n"
   ]
  },
  {
   "cell_type": "markdown",
   "metadata": {},
   "source": []
  },
  {
   "cell_type": "markdown",
   "metadata": {},
   "source": [
    "Note that we have\n",
    "$$\n",
    "s(x) = q_k(x) = a_k+b_k(x−x_k)+c_k(x−x_k)^2+d_k(x−x_k)^3,\n",
    "$$\n",
    "then the number of unknows is \n",
    "$$\n",
    "d \\cdot (\\text{degree} + 1) = d (3+1) = 4d.\n",
    "$$\n",
    "The number of equations is\n",
    "$$\n",
    "\\#(\\text{points}) + \\#(\\text{points} - 1)\\cdot \\#(\\text{continuity condition} - 1)\n",
    "+ \\#(\\text{natural boundary conditions});\n",
    "$$\n",
    "that is,\n",
    "$$\n",
    "d+1 + (d-1)(4-1) + 2 = (d+1) + (3d-3) + 2 = 4d.\n",
    "$$\n",
    "\n",
    "Therefore, there are $4d$ equations and $4d$ unknowns. \n",
    "\n",
    "In particular:\n",
    "$$\n",
    "a_k =f_k \n",
    "$$ \n",
    "for $k = 0,1, ..., d-1$ i.e. $n$ equations;\n",
    "\n",
    "$$\n",
    "a_k + b_k \\Delta x + c_k \\Delta x^2 + d_k \\Delta x^3 = f_{k+1}\n",
    "$$ \n",
    "for $k = 0, ..., d-1$;\n",
    "\n",
    "$$\n",
    "b_k + 2c_k \\Delta x + 3 d_k \\Delta x^2 - b_{k+1} = 0\n",
    "$$ \n",
    "for $k = 0, 1, ..., d-2$;\n",
    "\n",
    "$$\n",
    "2c_k + 6 d_k \\Delta x -2 c_{k+1} = 0\n",
    "$$ \n",
    "for $k = 0, 1, ..., d-2$;\n",
    "\n",
    "$$\n",
    "c_0 = 0;\n",
    "$$\n",
    "\n",
    "$$\n",
    "2c_{d-1} + 6 d_{d-1} \\Delta x = 0.\n",
    "$$"
   ]
  },
  {
   "cell_type": "markdown",
   "metadata": {},
   "source": [
    "Will have the vector:\n",
    "$$\n",
    "p = \n",
    "\\begin{bmatrix}\n",
    "a_0 & b_0 & c_0 & d_0 & \\cdots & c_{d-1} & d_{d-1}\n",
    "\\end{bmatrix}^T\n",
    "$$\n",
    "and \n",
    "$$\n",
    "V \\cdot p = w =\n",
    "\\begin{bmatrix}\n",
    "f_0 & f_1 & 0 & 0 & f_1 & f_2 & 0 & 0 & \\cdots &\n",
    "f_{d-1} & f_d & 0 & 0\n",
    "\\end{bmatrix}^T\n",
    "$$\n",
    "where the last two zeros come from natural boundary condition."
   ]
  },
  {
   "cell_type": "code",
   "execution_count": 659,
   "metadata": {
    "collapsed": false
   },
   "outputs": [],
   "source": [
    "# sFit.py\n",
    "\n",
    "\n",
    "# V * p = w\n",
    "\n",
    "# get the V matrix\n",
    "# input:\n",
    "# (x0, xd): inverval, d: d+1 points\n",
    "# dim V: 4d times 4d\n",
    "def get_V(xk):\n",
    "    b, a= xk[-1], xk[0]\n",
    "    d = len(xk) - 1\n",
    "    delta = (b-a)/d # delta_x\n",
    "    V = np.array([4*d*[0] for i in range(4*d)])\n",
    "    # s(x_k), s(x_k+1)\n",
    "    for i in range(d):\n",
    "        V[0+4*i][0+4*i] = 1\n",
    "        V[1+4*i][0+4*i : 4+4*i] = [1, delta, pow(delta, 2), pow(delta,3)]\n",
    "    # s', s''\n",
    "    for i in range(d-1):\n",
    "        V[2+4*i][0+4*i : 6+4*i] = [0,1, 2*delta, 3*pow(delta, 2),0, -1] #ak,..dk,a_k+1, b_k+1\n",
    "        V[3+4*i][0+4*i : 7+4*i] = [0,0, 2, 6*delta, 0, 0, -2]\n",
    "    # Natural boundary    \n",
    "    V[-2][2] = 1\n",
    "    V[-1][-2:] = [2, 6*delta]\n",
    "    return V\n",
    "\n",
    "\n",
    "# generate vector W, given fk\n",
    "# len(W) = 4 * d\n",
    "def get_w(fk):\n",
    "    d = len(fk)-1 \n",
    "    w = np.zeros(4*d)\n",
    "    for i in range(d):\n",
    "        w[0+4*i : 2+4*i] = [fk[0 + i], fk[1 + i]]\n",
    "    return w\n",
    "\n",
    "\n",
    "# sFit.py\n",
    "# Given xk and fk, run the spline cubic fit\n",
    "\n",
    "def sFit(xk, fk):\n",
    "    x0, xd = xk[0], xk[-1]\n",
    "    d = len(fk) - 1\n",
    "    w = get_w(fk)\n",
    "    V = get_V(xk)\n",
    "    p = np.dot(LA.inv(V), w)\n",
    "    return p\n"
   ]
  },
  {
   "cell_type": "code",
   "execution_count": 660,
   "metadata": {
    "collapsed": true
   },
   "outputs": [],
   "source": [
    "# sEval.py\n",
    "\n",
    "\n",
    "# Evaluate cubic function a + bu + cu^2 + du^3, u = x - xj\n",
    "\n",
    "def cubic(coeff, xj, x):\n",
    "    a, b, c, d = coeff[0],coeff[1],coeff[2],coeff[3]\n",
    "    delta = x- xj\n",
    "    value = a + b*delta + c*pow(delta, 2) + d*pow(delta, 3)\n",
    "    return value\n",
    "\n",
    "\n",
    "# Given number r and  partition xk\n",
    "# return index j, s.t xk[j+1] > r\n",
    "def get_index(xk, r):\n",
    "    for i in range(len(xk)):\n",
    "        if xk[0] > r:\n",
    "            print('Error: input value out of range.')\n",
    "            return None\n",
    "        elif xk[i]> r :\n",
    "            break\n",
    "    j = i-1\n",
    "    return j\n",
    "\n",
    "# Evaluate with spline method\n",
    "# Input: \n",
    "# xk: d+1 points; fk: d+1 value; x: input value\n",
    "def sEval(xk, fk, x):\n",
    "    pk = sFit(xk, fk)\n",
    "    j = get_index(xk, x)\n",
    "    coeff = pk[0 + j*4 : 4 + j*4]\n",
    "    value = cubic(coeff, xk[j], x)\n",
    "    return value #, coeff, j, pk"
   ]
  },
  {
   "cell_type": "code",
   "execution_count": 661,
   "metadata": {
    "collapsed": false
   },
   "outputs": [
    {
     "name": "stdout",
     "output_type": "stream",
     "text": [
      "---- Generating V ----\n",
      "[[ 1  0  0  0  0  0  0  0]\n",
      " [ 1  1  2  3  0  0  0  0]\n",
      " [ 0  1  3  6  0 -1  0  0]\n",
      " [ 0  0  2  9  0  0 -2  0]\n",
      " [ 0  0  0  0  1  0  0  0]\n",
      " [ 0  0  0  0  1  1  2  3]\n",
      " [ 0  0  1  0  0  0  0  0]\n",
      " [ 0  0  0  0  0  0  2  9]]\n",
      "---- Generating w ----\n",
      "[ 3.   4.5  0.   0.   4.5  6.   0.   0. ]\n",
      "---- Generating p ----\n",
      "[  3.00000000e+00   1.50000000e+00   0.00000000e+00   5.55111512e-17\n",
      "   4.50000000e+00   1.50000000e+00  -2.22044605e-16   0.00000000e+00]\n",
      "---- V * w - p ----\n",
      "[  0.00000000e+00   6.00000000e+00  -1.50000000e+00  -5.55111512e-17\n",
      "   0.00000000e+00   9.00000000e+00   2.22044605e-16   0.00000000e+00]\n"
     ]
    }
   ],
   "source": [
    "# Ex.\n",
    "# Test sFit\n",
    "# Generate V p = w\n",
    "\n",
    "\n",
    "b = 6\n",
    "a = 3\n",
    "d = 2\n",
    "delta = (b-a)/d\n",
    "xk = np.linspace(a, b, d+1)\n",
    "fk = np.linspace(a, b, d+1)\n",
    "\n",
    "V = get_V(xk)\n",
    "w = get_w(fk)\n",
    "p = sFit(xk, fk)\n",
    "\n",
    "print(\"---- Generating V ----\")\n",
    "print(V)\n",
    "print(\"---- Generating w ----\")\n",
    "print(w)\n",
    "print(\"---- Generating p ----\")\n",
    "print(p)\n",
    "\n",
    "print(\"---- V * w - p ----\")\n",
    "print(np.dot(V, w) - p)"
   ]
  },
  {
   "cell_type": "code",
   "execution_count": 662,
   "metadata": {
    "collapsed": false
   },
   "outputs": [
    {
     "data": {
      "text/plain": [
       "<matplotlib.text.Text at 0x121a80358>"
      ]
     },
     "execution_count": 662,
     "metadata": {},
     "output_type": "execute_result"
    },
    {
     "data": {
      "image/png": "[encoded data removed]",
      "text/plain": [
       "<matplotlib.figure.Figure at 0x11a91e4a8>"
      ]
     },
     "metadata": {},
     "output_type": "display_data"
    }
   ],
   "source": [
    "# Test both sEval and sFit\n",
    "# Ex. p = x^4 - 40 x^2\n",
    "\n",
    "d = 20\n",
    "xk = np.linspace(-10, 10, d+1)\n",
    "# Direct computation\n",
    "fk = [pow(i,4)-40*pow(i,2) for i in xk]\n",
    "\n",
    "\n",
    "s_value = [sEval(xk, fk, i) for i in xk]\n",
    "plt.plot(xk, s_value, linestyle = '--', label = 'Spline Value')\n",
    "plt.plot(xk, fk, linestyle = '-', label = 'Real Value')\n",
    "plt.legend()\n",
    "plt.title(\"Real and Splice value of $x^4 - 40 x^2$\")\n",
    "plt.xlabel(\"x value\")\n",
    "plt.ylabel(\"y value\")\n",
    "\n"
   ]
  },
  {
   "cell_type": "code",
   "execution_count": null,
   "metadata": {
    "collapsed": false
   },
   "outputs": [],
   "source": []
  },
  {
   "cell_type": "markdown",
   "metadata": {},
   "source": [
    "\n",
    "Note that:\n",
    "\\begin{align*}\n",
    "q'_k(x) &= b_k + 2c_k (x-x_k) + 3d_k(x-x_k)^2 \\\\\n",
    "q''_k(x) &= 2c_k  + 6d_k(x-x_k) \\\\\n",
    "q'''_k(x) &= 6d_k\n",
    "\\end{align*}"
   ]
  },
  {
   "cell_type": "code",
   "execution_count": null,
   "metadata": {
    "collapsed": false
   },
   "outputs": [],
   "source": [
    "# sTest.py\n",
    "# Ex. p = x^4 - 40 x^2\n",
    "\n",
    "# Initial Data\n",
    "b = 10\n",
    "a = 0\n",
    "d = 5\n",
    "xk = np.linspace(a, b, d+1)\n",
    "fk = [pow(i,3) for i in xk]\n",
    "\n",
    "\n",
    "# Generate denser set\n",
    "d_dense = 600\n",
    "xk_dense = np.linspace(a, b, d_dense)\n",
    "fk_dense = [pow(i,3)-pow(i,2) for i in xk_dense]\n",
    "\n",
    "\n",
    "\n",
    "s_value = [sEval(xk, fk, i) for i in xk_dense]\n",
    "\n",
    "# Continuity around xk\n",
    "derivative = ()\n",
    "for i in xk:\n",
    "    index = get_index(xk_dense, i)\n",
    "    diff_value = s_value[index+1] - s_value[index]\n",
    "    diff_input = xk_dense[index] - xk_dense[index+1]\n",
    "    derivative = np.append(derivative, np.abs(diff_value/diff_input))\n",
    "    #derivative = np.append(derivative,diff_value/diff_input)\n",
    "plt.plot(xk, derivative)\n",
    "\n",
    "\n",
    "derivative2 = ()\n",
    "l = len(derivative)\n",
    "xk2 = xk[0:l]\n",
    "\n",
    "\n",
    "\n",
    "\n",
    "\n"
   ]
  },
  {
   "cell_type": "code",
   "execution_count": null,
   "metadata": {
    "collapsed": true
   },
   "outputs": [],
   "source": [
    "for i in xk[:-1]:\n",
    "    index = get_index(xk_dense, i)\n",
    "    diff_value = derivative[index+1] - derivative[index]\n",
    "    diff_input = xk_dense[index] - xk_dense[index+1]\n",
    "    derivative2 = np.append(derivative2, np.abs(diff_value/diff_input))\n",
    "    #derivative = np.append(derivative,diff_value/diff_input)\n",
    "\n"
   ]
  },
  {
   "cell_type": "code",
   "execution_count": null,
   "metadata": {
    "collapsed": true
   },
   "outputs": [],
   "source": []
  },
  {
   "cell_type": "code",
   "execution_count": null,
   "metadata": {
    "collapsed": false
   },
   "outputs": [],
   "source": []
  },
  {
   "cell_type": "markdown",
   "metadata": {},
   "source": [
    "### Comments:\n",
    "1. s, s' and s'' are continuous\n",
    "\n",
    "2. Natural boundary conditions are satisfied.\n"
   ]
  },
  {
   "cell_type": "code",
   "execution_count": null,
   "metadata": {
    "collapsed": false
   },
   "outputs": [],
   "source": []
  },
  {
   "cell_type": "markdown",
   "metadata": {},
   "source": []
  },
  {
   "cell_type": "code",
   "execution_count": 672,
   "metadata": {
    "collapsed": false
   },
   "outputs": [
    {
     "data": {
      "text/plain": [
       "<matplotlib.text.Text at 0x11b2808d0>"
      ]
     },
     "execution_count": 672,
     "metadata": {},
     "output_type": "execute_result"
    },
    {
     "data": {
      "image/png": "[encoded data removed]",
      "text/plain": [
       "<matplotlib.figure.Figure at 0x1252b6358>"
      ]
     },
     "metadata": {},
     "output_type": "display_data"
    }
   ],
   "source": [
    "# plot the condition number with respect to d\n",
    "\n",
    "# Module with condition number computation\n",
    "def sFit2(xk, fk):\n",
    "    x0, xd = xk[0], xk[-1]\n",
    "    d = len(fk) - 1\n",
    "    w = get_w(fk)\n",
    "    V = get_V(xk)\n",
    "    p = np.dot(LA.inv(V), w)\n",
    "    cond = LA.cond(V)\n",
    "    return p, cond, V\n",
    "\n",
    "# Set maximal d\n",
    "d_max = 20\n",
    "cond_no = np.zeros(d_max)\n",
    "#x = np.random.rand(d_max)\n",
    "#f = np.random.rand(d_max)\n",
    "x = np.linspace(-10, 100, d_max)\n",
    "f = 100*x\n",
    "\n",
    "# Take partial array for condition number computation\n",
    "for j in range(d_max):\n",
    "    i = j + 2\n",
    "    cond_no[j] = sFit2(x[:i], f[:i])[1]\n",
    "    \n",
    "# Plotting \n",
    "plt.plot(cond_no)\n",
    "#plt.yscale('log')\n",
    "plt.ylabel(\"Condition Number(Log Scale)\")\n",
    "plt.xlabel(\"$d$\")\n",
    "plt.title(\"Growth of Condition Number with respect to d\")\n",
    "\n",
    "\n"
   ]
  },
  {
   "cell_type": "code",
   "execution_count": 673,
   "metadata": {
    "collapsed": false
   },
   "outputs": [
    {
     "data": {
      "text/plain": [
       "<matplotlib.legend.Legend at 0x121a33e80>"
      ]
     },
     "execution_count": 673,
     "metadata": {},
     "output_type": "execute_result"
    },
    {
     "data": {
      "image/png": "[encoded data removed]",
      "text/plain": [
       "<matplotlib.figure.Figure at 0x1254d5c18>"
      ]
     },
     "metadata": {},
     "output_type": "display_data"
    }
   ],
   "source": [
    "# plot the condition number with respect to d\n",
    "\n",
    "# Module with condition number computation\n",
    "def sFit2(xk, fk):\n",
    "    x0, xd = xk[0], xk[-1]\n",
    "    d = len(fk) - 1\n",
    "    w = get_w(fk)\n",
    "    V = get_V(xk)\n",
    "    p = np.dot(LA.inv(V), w)\n",
    "    cond = LA.cond(V)\n",
    "    return p, cond, V\n",
    "\n",
    "\n",
    "\n",
    "linestyles = ['-', '--', '-.', ':']\n",
    "line_ind = 0\n",
    "for k in np.arange(0,20,5):\n",
    "    # Set maximal d\n",
    "    d_max = int(k + 35)\n",
    "    cond_no = np.zeros(d_max)\n",
    "    x = np.linspace(-10, 100, d_max)\n",
    "    f = 100*x\n",
    "    # Take partial array for condition number computation\n",
    "    for j in range(d_max):\n",
    "        i = j + 2\n",
    "        cond_no[j] = sFit2(x[:i], f[:i])[1]\n",
    "    # Plotting \n",
    "    plt.plot(cond_no, label =\"d_max = %d\"%j, linestyle = linestyles[line_ind % 4] )\n",
    "    line_ind +=  1\n",
    "             \n",
    "\n",
    "\n",
    "plt.ylabel(\"Condition Number(Log Scale)\")\n",
    "plt.xlabel(\"$d$\")\n",
    "plt.title(\"Growth of Condition Number with respect to d\")\n",
    "plt.legend()\n",
    "\n"
   ]
  },
  {
   "cell_type": "markdown",
   "metadata": {},
   "source": [
    "### Comments:\n",
    "The condition number no longer grows exponentially; insted it reaches the maximal value in the spline method."
   ]
  },
  {
   "cell_type": "markdown",
   "metadata": {},
   "source": []
  },
  {
   "cell_type": "code",
   "execution_count": 604,
   "metadata": {
    "collapsed": false
   },
   "outputs": [
    {
     "data": {
      "image/png": "[encoded data removed]",
      "text/plain": [
       "<matplotlib.figure.Figure at 0x12ad49518>"
      ]
     },
     "metadata": {},
     "output_type": "display_data"
    }
   ],
   "source": [
    "def g(x):\n",
    "    return np.exp(-pow(x, 2)/2.)\n",
    "\n",
    "\n",
    "# Evaluate for Polyn\n",
    "step = 100 \n",
    "uk = np.linspace(-2, 2, step)\n",
    "fk = [g(x) for x in uk]\n",
    "pk = sFit(uk, fk)[0]\n",
    "\n",
    "#plt.plot(xk, fk)\n",
    "plt.plot(uk, fk)\n",
    "plt.title(\"Original Function\")\n",
    "plt.xlabel(\"input value x\")\n",
    "\n",
    "\n"
   ]
  },
  {
   "cell_type": "code",
   "execution_count": 644,
   "metadata": {
    "collapsed": false
   },
   "outputs": [
    {
     "data": {
      "text/plain": [
       "<matplotlib.text.Text at 0x1190704a8>"
      ]
     },
     "execution_count": 644,
     "metadata": {},
     "output_type": "execute_result"
    },
    {
     "data": {
      "image/png": "[encoded data removed]",
      "text/plain": [
       "<matplotlib.figure.Figure at 0x118b2cfd0>"
      ]
     },
     "metadata": {},
     "output_type": "display_data"
    }
   ],
   "source": [
    "# xk: d+1 points; fk: d+1 value; x: input value\n",
    "# def sEval(xk, fk, x):\n",
    "\n",
    "# Evaluation for Polyn\n",
    "a = -30\n",
    "b = 30\n",
    "step = 60\n",
    "uk = np.linspace(a, b, step)\n",
    "fk_plot = [g(x) for x in uk]\n",
    "\n",
    "k = 3\n",
    "marks = [':','--','-']\n",
    "for j in range(k):\n",
    "    d = j*5 + 15\n",
    "    xk = np.linspace(a, b, d)\n",
    "    fk = [g(x) for x in xk]\n",
    "    pk = sFit2(xk, fk)[0]\n",
    "    \n",
    "    fk_eval = [sEval(xk, fk, x) for x in uk]\n",
    "    plt.plot(uk, fk_eval, label=\"d = %d\"%d, linestyle = marks[j%3])\n",
    "plt.legend()\n",
    "plt.title(\"Polynomial Approximation\")\n",
    "plt.xlabel(\"x value\")\n",
    "plt.ylabel(\"y value\")"
   ]
  },
  {
   "cell_type": "code",
   "execution_count": 647,
   "metadata": {
    "collapsed": false,
    "scrolled": true
   },
   "outputs": [
    {
     "data": {
      "text/plain": [
       "<matplotlib.text.Text at 0x119a82e48>"
      ]
     },
     "execution_count": 647,
     "metadata": {},
     "output_type": "execute_result"
    },
    {
     "data": {
      "image/png": "[encoded data removed]",
      "text/plain": [
       "<matplotlib.figure.Figure at 0x12a2b7a58>"
      ]
     },
     "metadata": {},
     "output_type": "display_data"
    }
   ],
   "source": [
    "plt.plot(np.array(uk), np.array(fk_eval) - np.array(fk_plot))\n",
    "plt.ylabel(\"Error\")\n",
    "plt.xlabel(\"x value\")\n",
    "plt.title(\"Error between spline and real value\")"
   ]
  },
  {
   "cell_type": "code",
   "execution_count": null,
   "metadata": {
    "collapsed": false
   },
   "outputs": [],
   "source": []
  }
 ],
 "metadata": {
  "kernelspec": {
   "display_name": "Python 3",
   "language": "python",
   "name": "python3"
  },
  "language_info": {
   "codemirror_mode": {
    "name": "ipython",
    "version": 3
   },
   "file_extension": ".py",
   "mimetype": "text/x-python",
   "name": "python",
   "nbconvert_exporter": "python",
   "pygments_lexer": "ipython3",
   "version": "3.11.9"
  }
 },
 "nbformat": 4,
 "nbformat_minor": 1
}
